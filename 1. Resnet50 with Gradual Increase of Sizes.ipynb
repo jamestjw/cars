{
 "cells": [
  {
   "cell_type": "markdown",
   "metadata": {},
   "source": [
    "### Stanford Cars Dataset"
   ]
  },
  {
   "cell_type": "code",
   "execution_count": 1,
   "metadata": {},
   "outputs": [],
   "source": [
    "from fastai.vision import *\n",
    "from fastai.utils.ipython import * "
   ]
  },
  {
   "cell_type": "code",
   "execution_count": 2,
   "metadata": {},
   "outputs": [],
   "source": [
    "from fastai.callbacks.tracker import *"
   ]
  },
  {
   "cell_type": "markdown",
   "metadata": {},
   "source": [
    "Download dataset and load labels."
   ]
  },
  {
   "cell_type": "code",
   "execution_count": null,
   "metadata": {},
   "outputs": [],
   "source": [
    "# !wget http://imagenet.stanford.edu/internal/car196/cars_train.tgz\n",
    "# !wget https://ai.stanford.edu/~jkrause/cars/car_devkit.tgz"
   ]
  },
  {
   "cell_type": "code",
   "execution_count": null,
   "metadata": {},
   "outputs": [],
   "source": [
    "# !tar xvf cars_train.tgz\n",
    "# !tar xvf car_devkit.tgz"
   ]
  },
  {
   "cell_type": "code",
   "execution_count": 8,
   "metadata": {},
   "outputs": [],
   "source": [
    "from scipy.io import loadmat\n",
    "cars = loadmat('devkit/cars_meta.mat')\n",
    "car_names = [c[0] for c in cars['class_names'][0]]"
   ]
  },
  {
   "cell_type": "code",
   "execution_count": null,
   "metadata": {},
   "outputs": [],
   "source": [
    "cars_train = loadmat('devkit/cars_train_annos.mat')"
   ]
  },
  {
   "cell_type": "code",
   "execution_count": 52,
   "metadata": {},
   "outputs": [],
   "source": [
    "labels = {c[-1][0]: car_names[c[-2][0][0]-1] for c in cars_train['annotations'][0]}"
   ]
  },
  {
   "cell_type": "code",
   "execution_count": 2,
   "metadata": {},
   "outputs": [],
   "source": [
    "import pickle\n",
    "with open('labels.pkl','rb') as f:\n",
    "    labels = pickle.load(f)"
   ]
  },
  {
   "cell_type": "markdown",
   "metadata": {},
   "source": [
    "Distribution seems fairly even."
   ]
  },
  {
   "cell_type": "code",
   "execution_count": 8,
   "metadata": {},
   "outputs": [
    {
     "data": {
      "text/plain": [
       "(array([847., 829., 849., 800., 846., 789., 794., 774., 819., 797.]),\n",
       " array([  0. ,  19.5,  39. ,  58.5,  78. ,  97.5, 117. , 136.5, 156. , 175.5, 195. ]),\n",
       " <a list of 10 Patch objects>)"
      ]
     },
     "execution_count": 8,
     "metadata": {},
     "output_type": "execute_result"
    },
    {
     "data": {
      "image/png": "[encoded data removed]",
      "text/plain": [
       "<Figure size 432x288 with 1 Axes>"
      ]
     },
     "metadata": {
      "needs_background": "light"
     },
     "output_type": "display_data"
    }
   ],
   "source": [
    "import matplotlib.pyplot as plt\n",
    "plt.hist([b for a,b in labels.items()])"
   ]
  },
  {
   "cell_type": "markdown",
   "metadata": {},
   "source": [
    "Datablock API Setup"
   ]
  },
  {
   "cell_type": "code",
   "execution_count": 5,
   "metadata": {},
   "outputs": [],
   "source": [
    "path = Path('./')"
   ]
  },
  {
   "cell_type": "code",
   "execution_count": null,
   "metadata": {},
   "outputs": [],
   "source": [
    "seed = 42\n",
    "src = (ImageList\n",
    "       .from_folder(path,include='cars_train',extensions='.jpg')\n",
    "       .split_by_rand_pct(0.15,seed=42)\n",
    "       .label_from_func(lambda x: labels[x.name])\n",
    "      )"
   ]
  },
  {
   "cell_type": "code",
   "execution_count": null,
   "metadata": {},
   "outputs": [],
   "source": [
    "data = (src\n",
    "        .transform(get_transforms(),size=(224,244))\n",
    "        .databunch()\n",
    "        .normalize(imagenet_stats)\n",
    "       )"
   ]
  },
  {
   "cell_type": "code",
   "execution_count": 8,
   "metadata": {},
   "outputs": [],
   "source": [
    "# data.batch_size = 50"
   ]
  },
  {
   "cell_type": "markdown",
   "metadata": {},
   "source": [
    "We use mixup for data augmentation."
   ]
  },
  {
   "cell_type": "code",
   "execution_count": 9,
   "metadata": {
    "scrolled": false
   },
   "outputs": [],
   "source": [
    "learn = cnn_learner(data, models.resnet50, metrics=accuracy).mixup()"
   ]
  },
  {
   "cell_type": "code",
   "execution_count": 10,
   "metadata": {},
   "outputs": [
    {
     "data": {
      "text/html": [],
      "text/plain": [
       "<IPython.core.display.HTML object>"
      ]
     },
     "metadata": {},
     "output_type": "display_data"
    },
    {
     "name": "stdout",
     "output_type": "stream",
     "text": [
      "LR Finder is complete, type {learner_name}.recorder.plot() to see the graph.\n",
      "Min numerical gradient: 9.12E-03\n",
      "Min loss divided by 10: 3.98E-03\n"
     ]
    },
    {
     "data": {
      "image/png": "[encoded data removed]",
      "text/plain": [
       "<Figure size 432x288 with 1 Axes>"
      ]
     },
     "metadata": {
      "needs_background": "light"
     },
     "output_type": "display_data"
    }
   ],
   "source": [
    "learn.lr_find()\n",
    "learn.recorder.plot(suggestion=True)"
   ]
  },
  {
   "cell_type": "code",
   "execution_count": 11,
   "metadata": {
    "scrolled": true
   },
   "outputs": [
    {
     "data": {
      "text/html": [
       "<table border=\"1\" class=\"dataframe\">\n",
       "  <thead>\n",
       "    <tr style=\"text-align: left;\">\n",
       "      <th>epoch</th>\n",
       "      <th>train_loss</th>\n",
       "      <th>valid_loss</th>\n",
       "      <th>accuracy</th>\n",
       "      <th>time</th>\n",
       "    </tr>\n",
       "  </thead>\n",
       "  <tbody>\n",
       "    <tr>\n",
       "      <td>0</td>\n",
       "      <td>5.184244</td>\n",
       "      <td>4.059735</td>\n",
       "      <td>0.144963</td>\n",
       "      <td>01:23</td>\n",
       "    </tr>\n",
       "    <tr>\n",
       "      <td>1</td>\n",
       "      <td>4.256169</td>\n",
       "      <td>2.957429</td>\n",
       "      <td>0.324324</td>\n",
       "      <td>01:22</td>\n",
       "    </tr>\n",
       "    <tr>\n",
       "      <td>2</td>\n",
       "      <td>3.579404</td>\n",
       "      <td>2.256933</td>\n",
       "      <td>0.442260</td>\n",
       "      <td>01:22</td>\n",
       "    </tr>\n",
       "    <tr>\n",
       "      <td>3</td>\n",
       "      <td>3.210415</td>\n",
       "      <td>2.044518</td>\n",
       "      <td>0.470106</td>\n",
       "      <td>01:22</td>\n",
       "    </tr>\n",
       "    <tr>\n",
       "      <td>4</td>\n",
       "      <td>3.106103</td>\n",
       "      <td>2.062215</td>\n",
       "      <td>0.451269</td>\n",
       "      <td>01:21</td>\n",
       "    </tr>\n",
       "    <tr>\n",
       "      <td>5</td>\n",
       "      <td>3.027825</td>\n",
       "      <td>1.932907</td>\n",
       "      <td>0.495495</td>\n",
       "      <td>01:22</td>\n",
       "    </tr>\n",
       "    <tr>\n",
       "      <td>6</td>\n",
       "      <td>2.967166</td>\n",
       "      <td>2.013168</td>\n",
       "      <td>0.478296</td>\n",
       "      <td>01:21</td>\n",
       "    </tr>\n",
       "    <tr>\n",
       "      <td>7</td>\n",
       "      <td>2.909703</td>\n",
       "      <td>1.966746</td>\n",
       "      <td>0.511876</td>\n",
       "      <td>01:21</td>\n",
       "    </tr>\n",
       "    <tr>\n",
       "      <td>8</td>\n",
       "      <td>2.805059</td>\n",
       "      <td>1.780585</td>\n",
       "      <td>0.546274</td>\n",
       "      <td>01:22</td>\n",
       "    </tr>\n",
       "    <tr>\n",
       "      <td>9</td>\n",
       "      <td>2.709395</td>\n",
       "      <td>1.714636</td>\n",
       "      <td>0.540541</td>\n",
       "      <td>01:23</td>\n",
       "    </tr>\n",
       "    <tr>\n",
       "      <td>10</td>\n",
       "      <td>2.596474</td>\n",
       "      <td>1.531935</td>\n",
       "      <td>0.606880</td>\n",
       "      <td>01:24</td>\n",
       "    </tr>\n",
       "    <tr>\n",
       "      <td>11</td>\n",
       "      <td>2.499637</td>\n",
       "      <td>1.523188</td>\n",
       "      <td>0.597871</td>\n",
       "      <td>01:22</td>\n",
       "    </tr>\n",
       "    <tr>\n",
       "      <td>12</td>\n",
       "      <td>2.432073</td>\n",
       "      <td>1.428750</td>\n",
       "      <td>0.619984</td>\n",
       "      <td>01:22</td>\n",
       "    </tr>\n",
       "    <tr>\n",
       "      <td>13</td>\n",
       "      <td>2.336656</td>\n",
       "      <td>1.103367</td>\n",
       "      <td>0.721540</td>\n",
       "      <td>01:21</td>\n",
       "    </tr>\n",
       "    <tr>\n",
       "      <td>14</td>\n",
       "      <td>2.258069</td>\n",
       "      <td>1.183472</td>\n",
       "      <td>0.704341</td>\n",
       "      <td>01:21</td>\n",
       "    </tr>\n",
       "    <tr>\n",
       "      <td>15</td>\n",
       "      <td>2.204536</td>\n",
       "      <td>1.061040</td>\n",
       "      <td>0.741196</td>\n",
       "      <td>01:21</td>\n",
       "    </tr>\n",
       "    <tr>\n",
       "      <td>16</td>\n",
       "      <td>2.113931</td>\n",
       "      <td>1.003551</td>\n",
       "      <td>0.747748</td>\n",
       "      <td>01:20</td>\n",
       "    </tr>\n",
       "    <tr>\n",
       "      <td>17</td>\n",
       "      <td>2.068113</td>\n",
       "      <td>0.865181</td>\n",
       "      <td>0.793612</td>\n",
       "      <td>01:21</td>\n",
       "    </tr>\n",
       "    <tr>\n",
       "      <td>18</td>\n",
       "      <td>2.014373</td>\n",
       "      <td>0.869131</td>\n",
       "      <td>0.784603</td>\n",
       "      <td>01:22</td>\n",
       "    </tr>\n",
       "    <tr>\n",
       "      <td>19</td>\n",
       "      <td>1.909354</td>\n",
       "      <td>0.826697</td>\n",
       "      <td>0.791155</td>\n",
       "      <td>01:21</td>\n",
       "    </tr>\n",
       "    <tr>\n",
       "      <td>20</td>\n",
       "      <td>1.887374</td>\n",
       "      <td>0.760709</td>\n",
       "      <td>0.815725</td>\n",
       "      <td>01:21</td>\n",
       "    </tr>\n",
       "    <tr>\n",
       "      <td>21</td>\n",
       "      <td>1.832361</td>\n",
       "      <td>0.733563</td>\n",
       "      <td>0.824734</td>\n",
       "      <td>01:21</td>\n",
       "    </tr>\n",
       "    <tr>\n",
       "      <td>22</td>\n",
       "      <td>1.792158</td>\n",
       "      <td>0.721865</td>\n",
       "      <td>0.821458</td>\n",
       "      <td>01:22</td>\n",
       "    </tr>\n",
       "    <tr>\n",
       "      <td>23</td>\n",
       "      <td>1.765802</td>\n",
       "      <td>0.668845</td>\n",
       "      <td>0.840295</td>\n",
       "      <td>01:22</td>\n",
       "    </tr>\n",
       "    <tr>\n",
       "      <td>24</td>\n",
       "      <td>1.684401</td>\n",
       "      <td>0.668425</td>\n",
       "      <td>0.843571</td>\n",
       "      <td>01:20</td>\n",
       "    </tr>\n",
       "    <tr>\n",
       "      <td>25</td>\n",
       "      <td>1.680244</td>\n",
       "      <td>0.653017</td>\n",
       "      <td>0.841933</td>\n",
       "      <td>01:22</td>\n",
       "    </tr>\n",
       "    <tr>\n",
       "      <td>26</td>\n",
       "      <td>1.677650</td>\n",
       "      <td>0.649055</td>\n",
       "      <td>0.841114</td>\n",
       "      <td>01:22</td>\n",
       "    </tr>\n",
       "    <tr>\n",
       "      <td>27</td>\n",
       "      <td>1.654843</td>\n",
       "      <td>0.640823</td>\n",
       "      <td>0.843571</td>\n",
       "      <td>01:21</td>\n",
       "    </tr>\n",
       "    <tr>\n",
       "      <td>28</td>\n",
       "      <td>1.632180</td>\n",
       "      <td>0.643861</td>\n",
       "      <td>0.843571</td>\n",
       "      <td>01:20</td>\n",
       "    </tr>\n",
       "    <tr>\n",
       "      <td>29</td>\n",
       "      <td>1.618562</td>\n",
       "      <td>0.646088</td>\n",
       "      <td>0.849304</td>\n",
       "      <td>01:21</td>\n",
       "    </tr>\n",
       "  </tbody>\n",
       "</table>"
      ],
      "text/plain": [
       "<IPython.core.display.HTML object>"
      ]
     },
     "metadata": {},
     "output_type": "display_data"
    },
    {
     "name": "stdout",
     "output_type": "stream",
     "text": [
      "Better model found at epoch 0 with accuracy value: 0.14496314525604248.\n",
      "Better model found at epoch 1 with accuracy value: 0.3243243098258972.\n",
      "Better model found at epoch 2 with accuracy value: 0.4422604441642761.\n",
      "Better model found at epoch 3 with accuracy value: 0.47010648250579834.\n",
      "Better model found at epoch 5 with accuracy value: 0.4954954981803894.\n",
      "Better model found at epoch 7 with accuracy value: 0.5118755102157593.\n",
      "Better model found at epoch 8 with accuracy value: 0.5462735295295715.\n",
      "Better model found at epoch 10 with accuracy value: 0.6068795919418335.\n",
      "Better model found at epoch 12 with accuracy value: 0.6199836134910583.\n",
      "Better model found at epoch 13 with accuracy value: 0.7215397357940674.\n",
      "Better model found at epoch 15 with accuracy value: 0.7411957383155823.\n",
      "Better model found at epoch 16 with accuracy value: 0.7477477192878723.\n",
      "Better model found at epoch 17 with accuracy value: 0.7936117649078369.\n",
      "Better model found at epoch 20 with accuracy value: 0.815724790096283.\n",
      "Better model found at epoch 21 with accuracy value: 0.8247338533401489.\n",
      "Better model found at epoch 23 with accuracy value: 0.8402948379516602.\n",
      "Better model found at epoch 24 with accuracy value: 0.8435708284378052.\n",
      "Better model found at epoch 29 with accuracy value: 0.8493038415908813.\n"
     ]
    }
   ],
   "source": [
    "learn.fit_one_cycle(30,1e-2,callbacks=[SaveModelCallback(learn, every='improvement', monitor='accuracy', name='30_epoch_resnet50_224_frozen_2')])"
   ]
  },
  {
   "cell_type": "code",
   "execution_count": 12,
   "metadata": {},
   "outputs": [],
   "source": [
    "learn.save('1_freeze_224_resnet50_2')"
   ]
  },
  {
   "cell_type": "code",
   "execution_count": null,
   "metadata": {},
   "outputs": [],
   "source": [
    "learn.load('1_freeze_224_resnet50_2')"
   ]
  },
  {
   "cell_type": "markdown",
   "metadata": {},
   "source": [
    "Unfreeze pretrained weights."
   ]
  },
  {
   "cell_type": "code",
   "execution_count": 14,
   "metadata": {},
   "outputs": [
    {
     "data": {
      "text/html": [
       "<table border=\"1\" class=\"dataframe\">\n",
       "  <thead>\n",
       "    <tr style=\"text-align: left;\">\n",
       "      <th>epoch</th>\n",
       "      <th>train_loss</th>\n",
       "      <th>valid_loss</th>\n",
       "      <th>accuracy</th>\n",
       "      <th>time</th>\n",
       "    </tr>\n",
       "  </thead>\n",
       "  <tbody>\n",
       "    <tr>\n",
       "      <td>0</td>\n",
       "      <td>1.666261</td>\n",
       "      <td>0.654496</td>\n",
       "      <td>0.839476</td>\n",
       "      <td>01:45</td>\n",
       "    </tr>\n",
       "    <tr>\n",
       "      <td>1</td>\n",
       "      <td>1.678186</td>\n",
       "      <td>0.682057</td>\n",
       "      <td>0.823096</td>\n",
       "      <td>01:43</td>\n",
       "    </tr>\n",
       "    <tr>\n",
       "      <td>2</td>\n",
       "      <td>1.664840</td>\n",
       "      <td>0.725491</td>\n",
       "      <td>0.818182</td>\n",
       "      <td>01:44</td>\n",
       "    </tr>\n",
       "    <tr>\n",
       "      <td>3</td>\n",
       "      <td>1.717995</td>\n",
       "      <td>0.744221</td>\n",
       "      <td>0.822277</td>\n",
       "      <td>01:43</td>\n",
       "    </tr>\n",
       "    <tr>\n",
       "      <td>4</td>\n",
       "      <td>1.707142</td>\n",
       "      <td>0.707302</td>\n",
       "      <td>0.822277</td>\n",
       "      <td>01:43</td>\n",
       "    </tr>\n",
       "    <tr>\n",
       "      <td>5</td>\n",
       "      <td>1.689188</td>\n",
       "      <td>0.671065</td>\n",
       "      <td>0.831286</td>\n",
       "      <td>01:44</td>\n",
       "    </tr>\n",
       "    <tr>\n",
       "      <td>6</td>\n",
       "      <td>1.671552</td>\n",
       "      <td>0.625474</td>\n",
       "      <td>0.840295</td>\n",
       "      <td>01:44</td>\n",
       "    </tr>\n",
       "    <tr>\n",
       "      <td>7</td>\n",
       "      <td>1.619934</td>\n",
       "      <td>0.617975</td>\n",
       "      <td>0.851761</td>\n",
       "      <td>01:44</td>\n",
       "    </tr>\n",
       "    <tr>\n",
       "      <td>8</td>\n",
       "      <td>1.602341</td>\n",
       "      <td>0.590118</td>\n",
       "      <td>0.861589</td>\n",
       "      <td>01:44</td>\n",
       "    </tr>\n",
       "    <tr>\n",
       "      <td>9</td>\n",
       "      <td>1.549968</td>\n",
       "      <td>0.574937</td>\n",
       "      <td>0.864865</td>\n",
       "      <td>01:44</td>\n",
       "    </tr>\n",
       "    <tr>\n",
       "      <td>10</td>\n",
       "      <td>1.543561</td>\n",
       "      <td>0.543190</td>\n",
       "      <td>0.872236</td>\n",
       "      <td>01:43</td>\n",
       "    </tr>\n",
       "    <tr>\n",
       "      <td>11</td>\n",
       "      <td>1.520197</td>\n",
       "      <td>0.521361</td>\n",
       "      <td>0.873055</td>\n",
       "      <td>01:43</td>\n",
       "    </tr>\n",
       "    <tr>\n",
       "      <td>12</td>\n",
       "      <td>1.498519</td>\n",
       "      <td>0.508936</td>\n",
       "      <td>0.880426</td>\n",
       "      <td>01:45</td>\n",
       "    </tr>\n",
       "    <tr>\n",
       "      <td>13</td>\n",
       "      <td>1.470994</td>\n",
       "      <td>0.501351</td>\n",
       "      <td>0.879607</td>\n",
       "      <td>01:43</td>\n",
       "    </tr>\n",
       "    <tr>\n",
       "      <td>14</td>\n",
       "      <td>1.460714</td>\n",
       "      <td>0.506848</td>\n",
       "      <td>0.877969</td>\n",
       "      <td>01:44</td>\n",
       "    </tr>\n",
       "  </tbody>\n",
       "</table>"
      ],
      "text/plain": [
       "<IPython.core.display.HTML object>"
      ]
     },
     "metadata": {},
     "output_type": "display_data"
    },
    {
     "name": "stdout",
     "output_type": "stream",
     "text": [
      "Better model found at epoch 0 with accuracy value: 0.8394758105278015.\n",
      "Better model found at epoch 6 with accuracy value: 0.8402948379516602.\n",
      "Better model found at epoch 7 with accuracy value: 0.8517608642578125.\n",
      "Better model found at epoch 8 with accuracy value: 0.8615888357162476.\n",
      "Better model found at epoch 9 with accuracy value: 0.8648648858070374.\n",
      "Better model found at epoch 10 with accuracy value: 0.872235894203186.\n",
      "Better model found at epoch 11 with accuracy value: 0.8730548620223999.\n",
      "Better model found at epoch 12 with accuracy value: 0.8804258704185486.\n"
     ]
    },
    {
     "data": {
      "text/plain": [
       "(None,)"
      ]
     },
     "execution_count": 14,
     "metadata": {},
     "output_type": "execute_result"
    }
   ],
   "source": [
    "learn.unfreeze()\n",
    "learn.fit_one_cycle(15, slice(1e-5,1e-3),callbacks=[SaveModelCallback(learn, every='improvement', monitor='accuracy', name='15_epoch_resnet50_224_unfrozen_2')]),"
   ]
  },
  {
   "cell_type": "code",
   "execution_count": null,
   "metadata": {},
   "outputs": [],
   "source": [
    "learn.load('15_epoch_resnet50_224_unfrozen_2')"
   ]
  },
  {
   "cell_type": "code",
   "execution_count": 16,
   "metadata": {},
   "outputs": [],
   "source": [
    "learn.save('final_resnet50_224')"
   ]
  },
  {
   "cell_type": "markdown",
   "metadata": {},
   "source": [
    "## Increasing Image Size"
   ]
  },
  {
   "cell_type": "code",
   "execution_count": 6,
   "metadata": {},
   "outputs": [],
   "source": [
    "data = (src\n",
    "        .transform(get_transforms(),size=(299,299))\n",
    "        .databunch(bs=40)\n",
    "        .normalize(imagenet_stats)\n",
    "       )"
   ]
  },
  {
   "cell_type": "code",
   "execution_count": 7,
   "metadata": {},
   "outputs": [],
   "source": [
    "learn = cnn_learner(data, models.resnet50, metrics=accuracy).mixup()"
   ]
  },
  {
   "cell_type": "code",
   "execution_count": null,
   "metadata": {},
   "outputs": [],
   "source": [
    "learn.load('final_resnet50_224')"
   ]
  },
  {
   "cell_type": "code",
   "execution_count": 9,
   "metadata": {},
   "outputs": [
    {
     "data": {
      "text/html": [
       "<table border=\"1\" class=\"dataframe\">\n",
       "  <thead>\n",
       "    <tr style=\"text-align: left;\">\n",
       "      <th>epoch</th>\n",
       "      <th>train_loss</th>\n",
       "      <th>valid_loss</th>\n",
       "      <th>accuracy</th>\n",
       "      <th>time</th>\n",
       "    </tr>\n",
       "  </thead>\n",
       "  <tbody>\n",
       "    <tr>\n",
       "      <td>0</td>\n",
       "      <td>1.548309</td>\n",
       "      <td>0.498105</td>\n",
       "      <td>0.885340</td>\n",
       "      <td>03:02</td>\n",
       "    </tr>\n",
       "    <tr>\n",
       "      <td>1</td>\n",
       "      <td>1.526852</td>\n",
       "      <td>0.472578</td>\n",
       "      <td>0.891892</td>\n",
       "      <td>02:55</td>\n",
       "    </tr>\n",
       "    <tr>\n",
       "      <td>2</td>\n",
       "      <td>1.515516</td>\n",
       "      <td>0.450608</td>\n",
       "      <td>0.889435</td>\n",
       "      <td>02:55</td>\n",
       "    </tr>\n",
       "    <tr>\n",
       "      <td>3</td>\n",
       "      <td>1.477754</td>\n",
       "      <td>0.440078</td>\n",
       "      <td>0.890254</td>\n",
       "      <td>02:54</td>\n",
       "    </tr>\n",
       "    <tr>\n",
       "      <td>4</td>\n",
       "      <td>1.454805</td>\n",
       "      <td>0.446250</td>\n",
       "      <td>0.891892</td>\n",
       "      <td>02:55</td>\n",
       "    </tr>\n",
       "    <tr>\n",
       "      <td>5</td>\n",
       "      <td>1.467579</td>\n",
       "      <td>0.440182</td>\n",
       "      <td>0.899263</td>\n",
       "      <td>02:55</td>\n",
       "    </tr>\n",
       "    <tr>\n",
       "      <td>6</td>\n",
       "      <td>1.454459</td>\n",
       "      <td>0.435140</td>\n",
       "      <td>0.900082</td>\n",
       "      <td>02:56</td>\n",
       "    </tr>\n",
       "    <tr>\n",
       "      <td>7</td>\n",
       "      <td>1.456850</td>\n",
       "      <td>0.434558</td>\n",
       "      <td>0.895987</td>\n",
       "      <td>02:56</td>\n",
       "    </tr>\n",
       "    <tr>\n",
       "      <td>8</td>\n",
       "      <td>1.436187</td>\n",
       "      <td>0.426848</td>\n",
       "      <td>0.899263</td>\n",
       "      <td>02:56</td>\n",
       "    </tr>\n",
       "    <tr>\n",
       "      <td>9</td>\n",
       "      <td>1.465707</td>\n",
       "      <td>0.422785</td>\n",
       "      <td>0.899263</td>\n",
       "      <td>02:56</td>\n",
       "    </tr>\n",
       "    <tr>\n",
       "      <td>10</td>\n",
       "      <td>1.393543</td>\n",
       "      <td>0.428081</td>\n",
       "      <td>0.902539</td>\n",
       "      <td>02:55</td>\n",
       "    </tr>\n",
       "    <tr>\n",
       "      <td>11</td>\n",
       "      <td>1.431719</td>\n",
       "      <td>0.424442</td>\n",
       "      <td>0.902539</td>\n",
       "      <td>02:55</td>\n",
       "    </tr>\n",
       "    <tr>\n",
       "      <td>12</td>\n",
       "      <td>1.432974</td>\n",
       "      <td>0.424085</td>\n",
       "      <td>0.900901</td>\n",
       "      <td>02:54</td>\n",
       "    </tr>\n",
       "    <tr>\n",
       "      <td>13</td>\n",
       "      <td>1.418344</td>\n",
       "      <td>0.423909</td>\n",
       "      <td>0.903358</td>\n",
       "      <td>02:55</td>\n",
       "    </tr>\n",
       "    <tr>\n",
       "      <td>14</td>\n",
       "      <td>1.420235</td>\n",
       "      <td>0.421155</td>\n",
       "      <td>0.898444</td>\n",
       "      <td>02:54</td>\n",
       "    </tr>\n",
       "  </tbody>\n",
       "</table>"
      ],
      "text/plain": [
       "<IPython.core.display.HTML object>"
      ]
     },
     "metadata": {},
     "output_type": "display_data"
    },
    {
     "name": "stdout",
     "output_type": "stream",
     "text": [
      "Better model found at epoch 0 with accuracy value: 0.8853398561477661.\n",
      "Better model found at epoch 1 with accuracy value: 0.8918918967247009.\n",
      "Better model found at epoch 5 with accuracy value: 0.8992629051208496.\n",
      "Better model found at epoch 6 with accuracy value: 0.9000818729400635.\n",
      "Better model found at epoch 10 with accuracy value: 0.9025388956069946.\n",
      "Better model found at epoch 13 with accuracy value: 0.9033579230308533.\n"
     ]
    },
    {
     "data": {
      "text/plain": [
       "(None,)"
      ]
     },
     "execution_count": 9,
     "metadata": {},
     "output_type": "execute_result"
    }
   ],
   "source": [
    "learn.unfreeze()\n",
    "learn.fit_one_cycle(15, slice(1e-6,1e-4),callbacks=[SaveModelCallback(learn, every='improvement', monitor='accuracy', name='20_epoch_resnet50_299_unfrozen_2')]),"
   ]
  },
  {
   "cell_type": "code",
   "execution_count": 34,
   "metadata": {},
   "outputs": [],
   "source": [
    "learn.save('final_resnet50_224')\n"
   ]
  },
  {
   "cell_type": "markdown",
   "metadata": {},
   "source": [
    "# What if I increase it again?"
   ]
  },
  {
   "cell_type": "code",
   "execution_count": 7,
   "metadata": {},
   "outputs": [],
   "source": [
    "data = (src\n",
    "        .transform(get_transforms(),size=(400,400))\n",
    "        .databunch(bs=22)\n",
    "        .normalize(imagenet_stats)\n",
    "       )"
   ]
  },
  {
   "cell_type": "code",
   "execution_count": 8,
   "metadata": {},
   "outputs": [],
   "source": [
    "learn = cnn_learner(data, models.resnet50, metrics=accuracy).mixup()"
   ]
  },
  {
   "cell_type": "code",
   "execution_count": null,
   "metadata": {},
   "outputs": [],
   "source": [
    "learn.load('final_resnet50_224')\n"
   ]
  },
  {
   "cell_type": "code",
   "execution_count": 10,
   "metadata": {},
   "outputs": [
    {
     "data": {
      "text/html": [
       "<table border=\"1\" class=\"dataframe\">\n",
       "  <thead>\n",
       "    <tr style=\"text-align: left;\">\n",
       "      <th>epoch</th>\n",
       "      <th>train_loss</th>\n",
       "      <th>valid_loss</th>\n",
       "      <th>accuracy</th>\n",
       "      <th>time</th>\n",
       "    </tr>\n",
       "  </thead>\n",
       "  <tbody>\n",
       "    <tr>\n",
       "      <td>0</td>\n",
       "      <td>1.650116</td>\n",
       "      <td>0.532162</td>\n",
       "      <td>0.873874</td>\n",
       "      <td>05:03</td>\n",
       "    </tr>\n",
       "    <tr>\n",
       "      <td>1</td>\n",
       "      <td>1.632420</td>\n",
       "      <td>0.483278</td>\n",
       "      <td>0.887797</td>\n",
       "      <td>04:56</td>\n",
       "    </tr>\n",
       "    <tr>\n",
       "      <td>2</td>\n",
       "      <td>1.581860</td>\n",
       "      <td>0.445992</td>\n",
       "      <td>0.892711</td>\n",
       "      <td>04:56</td>\n",
       "    </tr>\n",
       "    <tr>\n",
       "      <td>3</td>\n",
       "      <td>1.548177</td>\n",
       "      <td>0.437897</td>\n",
       "      <td>0.898444</td>\n",
       "      <td>04:56</td>\n",
       "    </tr>\n",
       "    <tr>\n",
       "      <td>4</td>\n",
       "      <td>1.487543</td>\n",
       "      <td>0.425511</td>\n",
       "      <td>0.891073</td>\n",
       "      <td>04:57</td>\n",
       "    </tr>\n",
       "    <tr>\n",
       "      <td>5</td>\n",
       "      <td>1.530809</td>\n",
       "      <td>0.412388</td>\n",
       "      <td>0.896806</td>\n",
       "      <td>04:56</td>\n",
       "    </tr>\n",
       "    <tr>\n",
       "      <td>6</td>\n",
       "      <td>1.509757</td>\n",
       "      <td>0.401470</td>\n",
       "      <td>0.907453</td>\n",
       "      <td>04:57</td>\n",
       "    </tr>\n",
       "    <tr>\n",
       "      <td>7</td>\n",
       "      <td>1.493426</td>\n",
       "      <td>0.404082</td>\n",
       "      <td>0.903358</td>\n",
       "      <td>04:56</td>\n",
       "    </tr>\n",
       "    <tr>\n",
       "      <td>8</td>\n",
       "      <td>1.482676</td>\n",
       "      <td>0.395574</td>\n",
       "      <td>0.904996</td>\n",
       "      <td>04:56</td>\n",
       "    </tr>\n",
       "    <tr>\n",
       "      <td>9</td>\n",
       "      <td>1.524782</td>\n",
       "      <td>0.391629</td>\n",
       "      <td>0.900901</td>\n",
       "      <td>04:56</td>\n",
       "    </tr>\n",
       "    <tr>\n",
       "      <td>10</td>\n",
       "      <td>1.431849</td>\n",
       "      <td>0.391717</td>\n",
       "      <td>0.905815</td>\n",
       "      <td>04:56</td>\n",
       "    </tr>\n",
       "    <tr>\n",
       "      <td>11</td>\n",
       "      <td>1.433916</td>\n",
       "      <td>0.388077</td>\n",
       "      <td>0.904177</td>\n",
       "      <td>04:56</td>\n",
       "    </tr>\n",
       "    <tr>\n",
       "      <td>12</td>\n",
       "      <td>1.449368</td>\n",
       "      <td>0.388828</td>\n",
       "      <td>0.904177</td>\n",
       "      <td>04:57</td>\n",
       "    </tr>\n",
       "    <tr>\n",
       "      <td>13</td>\n",
       "      <td>1.454670</td>\n",
       "      <td>0.389566</td>\n",
       "      <td>0.905815</td>\n",
       "      <td>04:56</td>\n",
       "    </tr>\n",
       "    <tr>\n",
       "      <td>14</td>\n",
       "      <td>1.465361</td>\n",
       "      <td>0.387397</td>\n",
       "      <td>0.901720</td>\n",
       "      <td>04:57</td>\n",
       "    </tr>\n",
       "  </tbody>\n",
       "</table>"
      ],
      "text/plain": [
       "<IPython.core.display.HTML object>"
      ]
     },
     "metadata": {},
     "output_type": "display_data"
    },
    {
     "name": "stdout",
     "output_type": "stream",
     "text": [
      "Better model found at epoch 0 with accuracy value: 0.8738738894462585.\n",
      "Better model found at epoch 1 with accuracy value: 0.8877968788146973.\n",
      "Better model found at epoch 2 with accuracy value: 0.8927108645439148.\n",
      "Better model found at epoch 3 with accuracy value: 0.898443877696991.\n",
      "Better model found at epoch 6 with accuracy value: 0.9074528813362122.\n"
     ]
    },
    {
     "data": {
      "text/plain": [
       "(None,)"
      ]
     },
     "execution_count": 10,
     "metadata": {},
     "output_type": "execute_result"
    }
   ],
   "source": [
    "learn.unfreeze()\n",
    "learn.fit_one_cycle(15, slice(1e-6,1e-4),callbacks=[SaveModelCallback(learn, every='improvement', monitor='accuracy', name='15_epoch_resnet50_400_unfrozen_2')]),"
   ]
  },
  {
   "cell_type": "markdown",
   "metadata": {},
   "source": [
    "Maybe we can do better?"
   ]
  }
 ],
 "metadata": {
  "kernelspec": {
   "display_name": "Python 3",
   "language": "python",
   "name": "python3"
  },
  "language_info": {
   "codemirror_mode": {
    "name": "ipython",
    "version": 3
   },
   "file_extension": ".py",
   "mimetype": "text/x-python",
   "name": "python",
   "nbconvert_exporter": "python",
   "pygments_lexer": "ipython3",
   "version": "3.7.1"
  }
 },
 "nbformat": 4,
 "nbformat_minor": 2
}
