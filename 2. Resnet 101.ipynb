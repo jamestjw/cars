{
 "cells": [
  {
   "cell_type": "markdown",
   "metadata": {},
   "source": [
    "Let's do the same thing but in Resnet101."
   ]
  },
  {
   "cell_type": "code",
   "execution_count": 1,
   "metadata": {},
   "outputs": [],
   "source": [
    "from fastai.vision import *\n",
    "from fastai.utils.ipython import * "
   ]
  },
  {
   "cell_type": "code",
   "execution_count": 2,
   "metadata": {},
   "outputs": [],
   "source": [
    "from fastai.callbacks.tracker import *"
   ]
  },
  {
   "cell_type": "code",
   "execution_count": 3,
   "metadata": {},
   "outputs": [],
   "source": [
    "import pickle\n",
    "with open('labels.pkl','rb') as f:\n",
    "    labels = pickle.load(f)"
   ]
  },
  {
   "cell_type": "code",
   "execution_count": 4,
   "metadata": {},
   "outputs": [],
   "source": [
    "path = Path('./')"
   ]
  },
  {
   "cell_type": "code",
   "execution_count": 5,
   "metadata": {},
   "outputs": [],
   "source": [
    "src = (ImageList\n",
    "       .from_folder(path,include='cars_train',extensions='.jpg')\n",
    "       .split_by_rand_pct(0.1)\n",
    "       .label_from_func(lambda x: labels[x.name])\n",
    "      )"
   ]
  },
  {
   "cell_type": "code",
   "execution_count": 76,
   "metadata": {},
   "outputs": [],
   "source": [
    "data = (src\n",
    "        .transform(get_transforms(),size=(224,244))\n",
    "        .databunch()\n",
    "        .normalize(imagenet_stats)\n",
    "       )"
   ]
  },
  {
   "cell_type": "code",
   "execution_count": 42,
   "metadata": {},
   "outputs": [],
   "source": [
    "data.batch_size = 50"
   ]
  },
  {
   "cell_type": "markdown",
   "metadata": {},
   "source": [
    "Once again, we use mixup for better performance."
   ]
  },
  {
   "cell_type": "code",
   "execution_count": 8,
   "metadata": {
    "scrolled": false
   },
   "outputs": [],
   "source": [
    "learn = cnn_learner(data, models.resnet50, metrics=accuracy).mixup()"
   ]
  },
  {
   "cell_type": "code",
   "execution_count": 10,
   "metadata": {},
   "outputs": [
    {
     "data": {
      "text/html": [],
      "text/plain": [
       "<IPython.core.display.HTML object>"
      ]
     },
     "metadata": {},
     "output_type": "display_data"
    },
    {
     "name": "stdout",
     "output_type": "stream",
     "text": [
      "LR Finder is complete, type {learner_name}.recorder.plot() to see the graph.\n",
      "Min numerical gradient: 1.10E-02\n",
      "Min loss divided by 10: 4.79E-03\n"
     ]
    },
    {
     "data": {
      "image/png": "[encoded data removed]",
      "text/plain": [
       "<Figure size 432x288 with 1 Axes>"
      ]
     },
     "metadata": {
      "needs_background": "light"
     },
     "output_type": "display_data"
    }
   ],
   "source": [
    "learn.lr_find()\n",
    "learn.recorder.plot(suggestion=True)"
   ]
  },
  {
   "cell_type": "code",
   "execution_count": 12,
   "metadata": {
    "scrolled": true
   },
   "outputs": [
    {
     "data": {
      "text/html": [
       "<table border=\"1\" class=\"dataframe\">\n",
       "  <thead>\n",
       "    <tr style=\"text-align: left;\">\n",
       "      <th>epoch</th>\n",
       "      <th>train_loss</th>\n",
       "      <th>valid_loss</th>\n",
       "      <th>accuracy</th>\n",
       "      <th>time</th>\n",
       "    </tr>\n",
       "  </thead>\n",
       "  <tbody>\n",
       "    <tr>\n",
       "      <td>0</td>\n",
       "      <td>5.141236</td>\n",
       "      <td>4.089376</td>\n",
       "      <td>0.146192</td>\n",
       "      <td>01:27</td>\n",
       "    </tr>\n",
       "    <tr>\n",
       "      <td>1</td>\n",
       "      <td>4.186796</td>\n",
       "      <td>2.906395</td>\n",
       "      <td>0.353808</td>\n",
       "      <td>01:24</td>\n",
       "    </tr>\n",
       "    <tr>\n",
       "      <td>2</td>\n",
       "      <td>3.452410</td>\n",
       "      <td>2.164681</td>\n",
       "      <td>0.464373</td>\n",
       "      <td>01:24</td>\n",
       "    </tr>\n",
       "    <tr>\n",
       "      <td>3</td>\n",
       "      <td>3.123557</td>\n",
       "      <td>2.087278</td>\n",
       "      <td>0.458231</td>\n",
       "      <td>01:25</td>\n",
       "    </tr>\n",
       "    <tr>\n",
       "      <td>4</td>\n",
       "      <td>3.084149</td>\n",
       "      <td>2.097570</td>\n",
       "      <td>0.449631</td>\n",
       "      <td>01:24</td>\n",
       "    </tr>\n",
       "    <tr>\n",
       "      <td>5</td>\n",
       "      <td>3.020956</td>\n",
       "      <td>2.126068</td>\n",
       "      <td>0.469287</td>\n",
       "      <td>01:24</td>\n",
       "    </tr>\n",
       "    <tr>\n",
       "      <td>6</td>\n",
       "      <td>2.913549</td>\n",
       "      <td>2.341618</td>\n",
       "      <td>0.390663</td>\n",
       "      <td>01:24</td>\n",
       "    </tr>\n",
       "    <tr>\n",
       "      <td>7</td>\n",
       "      <td>2.840508</td>\n",
       "      <td>1.899095</td>\n",
       "      <td>0.500000</td>\n",
       "      <td>01:25</td>\n",
       "    </tr>\n",
       "    <tr>\n",
       "      <td>8</td>\n",
       "      <td>2.777617</td>\n",
       "      <td>2.009579</td>\n",
       "      <td>0.460688</td>\n",
       "      <td>01:25</td>\n",
       "    </tr>\n",
       "    <tr>\n",
       "      <td>9</td>\n",
       "      <td>2.653865</td>\n",
       "      <td>1.514131</td>\n",
       "      <td>0.592138</td>\n",
       "      <td>01:24</td>\n",
       "    </tr>\n",
       "    <tr>\n",
       "      <td>10</td>\n",
       "      <td>2.570056</td>\n",
       "      <td>1.506914</td>\n",
       "      <td>0.597052</td>\n",
       "      <td>01:24</td>\n",
       "    </tr>\n",
       "    <tr>\n",
       "      <td>11</td>\n",
       "      <td>2.465843</td>\n",
       "      <td>1.439513</td>\n",
       "      <td>0.631450</td>\n",
       "      <td>01:23</td>\n",
       "    </tr>\n",
       "    <tr>\n",
       "      <td>12</td>\n",
       "      <td>2.403060</td>\n",
       "      <td>1.307299</td>\n",
       "      <td>0.669533</td>\n",
       "      <td>01:24</td>\n",
       "    </tr>\n",
       "    <tr>\n",
       "      <td>13</td>\n",
       "      <td>2.330557</td>\n",
       "      <td>1.218984</td>\n",
       "      <td>0.676904</td>\n",
       "      <td>01:24</td>\n",
       "    </tr>\n",
       "    <tr>\n",
       "      <td>14</td>\n",
       "      <td>2.260299</td>\n",
       "      <td>1.035760</td>\n",
       "      <td>0.734644</td>\n",
       "      <td>01:24</td>\n",
       "    </tr>\n",
       "    <tr>\n",
       "      <td>15</td>\n",
       "      <td>2.241303</td>\n",
       "      <td>1.069126</td>\n",
       "      <td>0.723587</td>\n",
       "      <td>01:24</td>\n",
       "    </tr>\n",
       "    <tr>\n",
       "      <td>16</td>\n",
       "      <td>2.113395</td>\n",
       "      <td>0.966197</td>\n",
       "      <td>0.750614</td>\n",
       "      <td>01:23</td>\n",
       "    </tr>\n",
       "    <tr>\n",
       "      <td>17</td>\n",
       "      <td>2.018810</td>\n",
       "      <td>0.910538</td>\n",
       "      <td>0.760442</td>\n",
       "      <td>01:24</td>\n",
       "    </tr>\n",
       "    <tr>\n",
       "      <td>18</td>\n",
       "      <td>1.975572</td>\n",
       "      <td>0.829107</td>\n",
       "      <td>0.786241</td>\n",
       "      <td>01:23</td>\n",
       "    </tr>\n",
       "    <tr>\n",
       "      <td>19</td>\n",
       "      <td>1.943872</td>\n",
       "      <td>0.768482</td>\n",
       "      <td>0.808354</td>\n",
       "      <td>01:24</td>\n",
       "    </tr>\n",
       "    <tr>\n",
       "      <td>20</td>\n",
       "      <td>1.841952</td>\n",
       "      <td>0.742811</td>\n",
       "      <td>0.807125</td>\n",
       "      <td>01:24</td>\n",
       "    </tr>\n",
       "    <tr>\n",
       "      <td>21</td>\n",
       "      <td>1.852133</td>\n",
       "      <td>0.715776</td>\n",
       "      <td>0.825553</td>\n",
       "      <td>01:25</td>\n",
       "    </tr>\n",
       "    <tr>\n",
       "      <td>22</td>\n",
       "      <td>1.786257</td>\n",
       "      <td>0.667032</td>\n",
       "      <td>0.839066</td>\n",
       "      <td>01:24</td>\n",
       "    </tr>\n",
       "    <tr>\n",
       "      <td>23</td>\n",
       "      <td>1.740566</td>\n",
       "      <td>0.618554</td>\n",
       "      <td>0.853808</td>\n",
       "      <td>01:24</td>\n",
       "    </tr>\n",
       "    <tr>\n",
       "      <td>24</td>\n",
       "      <td>1.698105</td>\n",
       "      <td>0.637244</td>\n",
       "      <td>0.845209</td>\n",
       "      <td>01:23</td>\n",
       "    </tr>\n",
       "    <tr>\n",
       "      <td>25</td>\n",
       "      <td>1.665069</td>\n",
       "      <td>0.601750</td>\n",
       "      <td>0.863636</td>\n",
       "      <td>01:24</td>\n",
       "    </tr>\n",
       "    <tr>\n",
       "      <td>26</td>\n",
       "      <td>1.650937</td>\n",
       "      <td>0.601489</td>\n",
       "      <td>0.864865</td>\n",
       "      <td>01:24</td>\n",
       "    </tr>\n",
       "    <tr>\n",
       "      <td>27</td>\n",
       "      <td>1.651135</td>\n",
       "      <td>0.601182</td>\n",
       "      <td>0.867322</td>\n",
       "      <td>01:24</td>\n",
       "    </tr>\n",
       "    <tr>\n",
       "      <td>28</td>\n",
       "      <td>1.628858</td>\n",
       "      <td>0.598828</td>\n",
       "      <td>0.862408</td>\n",
       "      <td>01:25</td>\n",
       "    </tr>\n",
       "    <tr>\n",
       "      <td>29</td>\n",
       "      <td>1.630543</td>\n",
       "      <td>0.592860</td>\n",
       "      <td>0.868550</td>\n",
       "      <td>01:24</td>\n",
       "    </tr>\n",
       "  </tbody>\n",
       "</table>"
      ],
      "text/plain": [
       "<IPython.core.display.HTML object>"
      ]
     },
     "metadata": {},
     "output_type": "display_data"
    },
    {
     "name": "stdout",
     "output_type": "stream",
     "text": [
      "Better model found at epoch 0 with accuracy value: 0.14619164168834686.\n",
      "Better model found at epoch 1 with accuracy value: 0.35380834341049194.\n",
      "Better model found at epoch 2 with accuracy value: 0.46437346935272217.\n",
      "Better model found at epoch 5 with accuracy value: 0.4692874550819397.\n",
      "Better model found at epoch 7 with accuracy value: 0.5.\n",
      "Better model found at epoch 9 with accuracy value: 0.5921375751495361.\n",
      "Better model found at epoch 10 with accuracy value: 0.5970516204833984.\n",
      "Better model found at epoch 11 with accuracy value: 0.6314496397972107.\n",
      "Better model found at epoch 12 with accuracy value: 0.6695331931114197.\n",
      "Better model found at epoch 13 with accuracy value: 0.6769042015075684.\n",
      "Better model found at epoch 14 with accuracy value: 0.7346437573432922.\n",
      "Better model found at epoch 16 with accuracy value: 0.7506142258644104.\n",
      "Better model found at epoch 17 with accuracy value: 0.7604422569274902.\n",
      "Better model found at epoch 18 with accuracy value: 0.7862407565116882.\n",
      "Better model found at epoch 19 with accuracy value: 0.8083537817001343.\n",
      "Better model found at epoch 21 with accuracy value: 0.8255528211593628.\n",
      "Better model found at epoch 22 with accuracy value: 0.8390663266181946.\n",
      "Better model found at epoch 23 with accuracy value: 0.8538083434104919.\n",
      "Better model found at epoch 25 with accuracy value: 0.8636363744735718.\n",
      "Better model found at epoch 26 with accuracy value: 0.8648648858070374.\n",
      "Better model found at epoch 27 with accuracy value: 0.8673218488693237.\n",
      "Better model found at epoch 29 with accuracy value: 0.8685503602027893.\n"
     ]
    }
   ],
   "source": [
    "learn.fit_one_cycle(30,1e-2,callbacks=[SaveModelCallback(learn, every='improvement', monitor='accuracy', name='30_epoch_resnet50_224_frozen')])"
   ]
  },
  {
   "cell_type": "code",
   "execution_count": 13,
   "metadata": {},
   "outputs": [],
   "source": [
    "learn.save('1_freeze_224_resnet50')"
   ]
  },
  {
   "cell_type": "code",
   "execution_count": null,
   "metadata": {},
   "outputs": [],
   "source": [
    "learn.load('1_freeze_224_resnet50')"
   ]
  },
  {
   "cell_type": "code",
   "execution_count": 10,
   "metadata": {},
   "outputs": [
    {
     "data": {
      "text/html": [
       "<table border=\"1\" class=\"dataframe\">\n",
       "  <thead>\n",
       "    <tr style=\"text-align: left;\">\n",
       "      <th>epoch</th>\n",
       "      <th>train_loss</th>\n",
       "      <th>valid_loss</th>\n",
       "      <th>accuracy</th>\n",
       "      <th>time</th>\n",
       "    </tr>\n",
       "  </thead>\n",
       "  <tbody>\n",
       "    <tr>\n",
       "      <td>0</td>\n",
       "      <td>1.727738</td>\n",
       "      <td>0.163483</td>\n",
       "      <td>0.974202</td>\n",
       "      <td>01:53</td>\n",
       "    </tr>\n",
       "    <tr>\n",
       "      <td>1</td>\n",
       "      <td>1.700621</td>\n",
       "      <td>0.205123</td>\n",
       "      <td>0.964373</td>\n",
       "      <td>01:49</td>\n",
       "    </tr>\n",
       "    <tr>\n",
       "      <td>2</td>\n",
       "      <td>1.775390</td>\n",
       "      <td>0.295347</td>\n",
       "      <td>0.939803</td>\n",
       "      <td>01:49</td>\n",
       "    </tr>\n",
       "    <tr>\n",
       "      <td>3</td>\n",
       "      <td>1.780795</td>\n",
       "      <td>0.342167</td>\n",
       "      <td>0.936118</td>\n",
       "      <td>01:49</td>\n",
       "    </tr>\n",
       "    <tr>\n",
       "      <td>4</td>\n",
       "      <td>1.797446</td>\n",
       "      <td>0.402095</td>\n",
       "      <td>0.918919</td>\n",
       "      <td>01:49</td>\n",
       "    </tr>\n",
       "    <tr>\n",
       "      <td>5</td>\n",
       "      <td>1.713670</td>\n",
       "      <td>0.363120</td>\n",
       "      <td>0.927518</td>\n",
       "      <td>01:49</td>\n",
       "    </tr>\n",
       "    <tr>\n",
       "      <td>6</td>\n",
       "      <td>1.680821</td>\n",
       "      <td>0.324366</td>\n",
       "      <td>0.943489</td>\n",
       "      <td>01:48</td>\n",
       "    </tr>\n",
       "    <tr>\n",
       "      <td>7</td>\n",
       "      <td>1.639636</td>\n",
       "      <td>0.326668</td>\n",
       "      <td>0.926290</td>\n",
       "      <td>01:48</td>\n",
       "    </tr>\n",
       "    <tr>\n",
       "      <td>8</td>\n",
       "      <td>1.626273</td>\n",
       "      <td>0.287124</td>\n",
       "      <td>0.934889</td>\n",
       "      <td>01:48</td>\n",
       "    </tr>\n",
       "    <tr>\n",
       "      <td>9</td>\n",
       "      <td>1.573223</td>\n",
       "      <td>0.281836</td>\n",
       "      <td>0.938575</td>\n",
       "      <td>01:48</td>\n",
       "    </tr>\n",
       "    <tr>\n",
       "      <td>10</td>\n",
       "      <td>1.516629</td>\n",
       "      <td>0.264522</td>\n",
       "      <td>0.947174</td>\n",
       "      <td>01:48</td>\n",
       "    </tr>\n",
       "    <tr>\n",
       "      <td>11</td>\n",
       "      <td>1.501464</td>\n",
       "      <td>0.245566</td>\n",
       "      <td>0.950860</td>\n",
       "      <td>01:47</td>\n",
       "    </tr>\n",
       "    <tr>\n",
       "      <td>12</td>\n",
       "      <td>1.463289</td>\n",
       "      <td>0.248709</td>\n",
       "      <td>0.953317</td>\n",
       "      <td>01:47</td>\n",
       "    </tr>\n",
       "    <tr>\n",
       "      <td>13</td>\n",
       "      <td>1.448762</td>\n",
       "      <td>0.244494</td>\n",
       "      <td>0.952088</td>\n",
       "      <td>01:48</td>\n",
       "    </tr>\n",
       "    <tr>\n",
       "      <td>14</td>\n",
       "      <td>1.476401</td>\n",
       "      <td>0.243758</td>\n",
       "      <td>0.950860</td>\n",
       "      <td>01:48</td>\n",
       "    </tr>\n",
       "  </tbody>\n",
       "</table>"
      ],
      "text/plain": [
       "<IPython.core.display.HTML object>"
      ]
     },
     "metadata": {},
     "output_type": "display_data"
    },
    {
     "name": "stdout",
     "output_type": "stream",
     "text": [
      "Better model found at epoch 0 with accuracy value: 0.974201500415802.\n"
     ]
    },
    {
     "data": {
      "text/plain": [
       "(None,)"
      ]
     },
     "execution_count": 10,
     "metadata": {},
     "output_type": "execute_result"
    }
   ],
   "source": [
    "learn.unfreeze()\n",
    "learn.fit_one_cycle(15, slice(1e-5,1e-3),callbacks=[SaveModelCallback(learn, every='improvement', monitor='accuracy', name='15_epoch_resnet50_224_unfrozen')]),"
   ]
  },
  {
   "cell_type": "code",
   "execution_count": null,
   "metadata": {},
   "outputs": [],
   "source": [
    "learn.load('15_epoch_resnet50_224_unfrozen')"
   ]
  },
  {
   "cell_type": "code",
   "execution_count": 12,
   "metadata": {},
   "outputs": [],
   "source": [
    "learn.save('final_resnet50_224')"
   ]
  },
  {
   "cell_type": "markdown",
   "metadata": {},
   "source": [
    "## Increasing Image Size"
   ]
  },
  {
   "cell_type": "code",
   "execution_count": 6,
   "metadata": {},
   "outputs": [],
   "source": [
    "data = (src\n",
    "        .transform(get_transforms(),size=(299,299))\n",
    "        .databunch(bs=40)\n",
    "        .normalize(imagenet_stats)\n",
    "       )"
   ]
  },
  {
   "cell_type": "code",
   "execution_count": 7,
   "metadata": {},
   "outputs": [],
   "source": [
    "learn = cnn_learner(data, models.resnet50, metrics=accuracy).mixup()"
   ]
  },
  {
   "cell_type": "code",
   "execution_count": null,
   "metadata": {},
   "outputs": [],
   "source": [
    "learn.load('15_epoch_resnet50_299_unfrozen')"
   ]
  },
  {
   "cell_type": "code",
   "execution_count": 9,
   "metadata": {},
   "outputs": [
    {
     "data": {
      "text/html": [
       "<table border=\"1\" class=\"dataframe\">\n",
       "  <thead>\n",
       "    <tr style=\"text-align: left;\">\n",
       "      <th>epoch</th>\n",
       "      <th>train_loss</th>\n",
       "      <th>valid_loss</th>\n",
       "      <th>accuracy</th>\n",
       "      <th>time</th>\n",
       "    </tr>\n",
       "  </thead>\n",
       "  <tbody>\n",
       "    <tr>\n",
       "      <td>0</td>\n",
       "      <td>1.678443</td>\n",
       "      <td>0.137663</td>\n",
       "      <td>0.986486</td>\n",
       "      <td>03:09</td>\n",
       "    </tr>\n",
       "    <tr>\n",
       "      <td>1</td>\n",
       "      <td>1.647077</td>\n",
       "      <td>0.137238</td>\n",
       "      <td>0.982801</td>\n",
       "      <td>03:01</td>\n",
       "    </tr>\n",
       "    <tr>\n",
       "      <td>2</td>\n",
       "      <td>1.643951</td>\n",
       "      <td>0.143902</td>\n",
       "      <td>0.985258</td>\n",
       "      <td>03:01</td>\n",
       "    </tr>\n",
       "    <tr>\n",
       "      <td>3</td>\n",
       "      <td>1.630331</td>\n",
       "      <td>0.138589</td>\n",
       "      <td>0.980344</td>\n",
       "      <td>03:02</td>\n",
       "    </tr>\n",
       "    <tr>\n",
       "      <td>4</td>\n",
       "      <td>1.630386</td>\n",
       "      <td>0.142468</td>\n",
       "      <td>0.975430</td>\n",
       "      <td>03:01</td>\n",
       "    </tr>\n",
       "    <tr>\n",
       "      <td>5</td>\n",
       "      <td>1.644152</td>\n",
       "      <td>0.147240</td>\n",
       "      <td>0.979115</td>\n",
       "      <td>03:01</td>\n",
       "    </tr>\n",
       "    <tr>\n",
       "      <td>6</td>\n",
       "      <td>1.614141</td>\n",
       "      <td>0.147726</td>\n",
       "      <td>0.979115</td>\n",
       "      <td>03:01</td>\n",
       "    </tr>\n",
       "    <tr>\n",
       "      <td>7</td>\n",
       "      <td>1.575748</td>\n",
       "      <td>0.149032</td>\n",
       "      <td>0.977887</td>\n",
       "      <td>03:02</td>\n",
       "    </tr>\n",
       "    <tr>\n",
       "      <td>8</td>\n",
       "      <td>1.555818</td>\n",
       "      <td>0.148505</td>\n",
       "      <td>0.976658</td>\n",
       "      <td>03:01</td>\n",
       "    </tr>\n",
       "    <tr>\n",
       "      <td>9</td>\n",
       "      <td>1.583824</td>\n",
       "      <td>0.149242</td>\n",
       "      <td>0.976658</td>\n",
       "      <td>03:01</td>\n",
       "    </tr>\n",
       "    <tr>\n",
       "      <td>10</td>\n",
       "      <td>1.547692</td>\n",
       "      <td>0.148587</td>\n",
       "      <td>0.977887</td>\n",
       "      <td>03:00</td>\n",
       "    </tr>\n",
       "    <tr>\n",
       "      <td>11</td>\n",
       "      <td>1.560964</td>\n",
       "      <td>0.147903</td>\n",
       "      <td>0.974202</td>\n",
       "      <td>03:00</td>\n",
       "    </tr>\n",
       "    <tr>\n",
       "      <td>12</td>\n",
       "      <td>1.570282</td>\n",
       "      <td>0.143534</td>\n",
       "      <td>0.976658</td>\n",
       "      <td>03:01</td>\n",
       "    </tr>\n",
       "    <tr>\n",
       "      <td>13</td>\n",
       "      <td>1.552078</td>\n",
       "      <td>0.145116</td>\n",
       "      <td>0.976658</td>\n",
       "      <td>03:00</td>\n",
       "    </tr>\n",
       "    <tr>\n",
       "      <td>14</td>\n",
       "      <td>1.567221</td>\n",
       "      <td>0.144091</td>\n",
       "      <td>0.974202</td>\n",
       "      <td>03:01</td>\n",
       "    </tr>\n",
       "  </tbody>\n",
       "</table>"
      ],
      "text/plain": [
       "<IPython.core.display.HTML object>"
      ]
     },
     "metadata": {},
     "output_type": "display_data"
    },
    {
     "name": "stdout",
     "output_type": "stream",
     "text": [
      "Better model found at epoch 0 with accuracy value: 0.9864864945411682.\n"
     ]
    },
    {
     "data": {
      "text/plain": [
       "(None,)"
      ]
     },
     "execution_count": 9,
     "metadata": {},
     "output_type": "execute_result"
    }
   ],
   "source": [
    "learn.unfreeze()\n",
    "learn.fit_one_cycle(15, slice(1e-6,1e-4),callbacks=[SaveModelCallback(learn, every='improvement', monitor='accuracy', name='15_epoch_resnet50_299_unfrozen')]),"
   ]
  },
  {
   "cell_type": "markdown",
   "metadata": {},
   "source": [
    "### Interpretation"
   ]
  },
  {
   "cell_type": "code",
   "execution_count": 39,
   "metadata": {},
   "outputs": [],
   "source": [
    "interp = ClassificationInterpretation.from_learner(learn)"
   ]
  },
  {
   "cell_type": "code",
   "execution_count": 40,
   "metadata": {},
   "outputs": [],
   "source": [
    "most_confused = interp.most_confused()\n"
   ]
  },
  {
   "cell_type": "markdown",
   "metadata": {},
   "source": [
    "Looks like most of them are same models from different years."
   ]
  },
  {
   "cell_type": "code",
   "execution_count": 41,
   "metadata": {},
   "outputs": [
    {
     "data": {
      "text/plain": [
       "[('Acura RL Sedan 2012', 'Acura TL Sedan 2012', 1),\n",
       " ('Audi A5 Coupe 2012', 'Audi S5 Coupe 2012', 1),\n",
       " ('Audi S5 Coupe 2012', 'BMW M3 Coupe 2012', 1),\n",
       " ('Audi TTS Coupe 2012', 'Audi TT Hatchback 2011', 1),\n",
       " ('Bentley Continental Flying Spur Sedan 2007',\n",
       "  'Bentley Continental GT Coupe 2007',\n",
       "  1),\n",
       " ('Chevrolet Cobalt SS 2010', 'Lamborghini Diablo Coupe 2001', 1),\n",
       " ('Dodge Caliber Wagon 2007', 'Dodge Caliber Wagon 2012', 1),\n",
       " ('Dodge Charger SRT-8 2009', 'Dodge Charger Sedan 2012', 1),\n",
       " ('Dodge Ram Pickup 3500 Quad Cab 2009', 'Ford Ranger SuperCab 2011', 1),\n",
       " ('GMC Yukon Hybrid SUV 2012', 'Chevrolet Tahoe Hybrid SUV 2012', 1),\n",
       " ('Rolls-Royce Ghost Sedan 2012', 'Rolls-Royce Phantom Sedan 2012', 1)]"
      ]
     },
     "execution_count": 41,
     "metadata": {},
     "output_type": "execute_result"
    }
   ],
   "source": [
    "most_confused"
   ]
  }
 ],
 "metadata": {
  "kernelspec": {
   "display_name": "Python 3",
   "language": "python",
   "name": "python3"
  },
  "language_info": {
   "codemirror_mode": {
    "name": "ipython",
    "version": 3
   },
   "file_extension": ".py",
   "mimetype": "text/x-python",
   "name": "python",
   "nbconvert_exporter": "python",
   "pygments_lexer": "ipython3",
   "version": "3.7.3"
  }
 },
 "nbformat": 4,
 "nbformat_minor": 2
}
