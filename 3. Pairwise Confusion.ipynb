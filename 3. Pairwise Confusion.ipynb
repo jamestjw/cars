{
 "cells": [
  {
   "cell_type": "markdown",
   "metadata": {},
   "source": [
    "# Pairwise Confusion"
   ]
  },
  {
   "cell_type": "markdown",
   "metadata": {},
   "source": [
    "The performance we got earlier just touched 90% accuracy on the validation set, so we are a little far off from the state of the art. Let's try out this regularisation idea that forces models to generalise and learn interclass distinctions a little better. For now, our model is good at telling apart the makes of cars, but it isn't doing so well when different models of the same make are quite similar. https://arxiv.org/pdf/1705.08016v3.pdf"
   ]
  },
  {
   "cell_type": "code",
   "execution_count": 1,
   "metadata": {},
   "outputs": [],
   "source": [
    "from fastai.vision import *\n",
    "from fastai.utils.ipython import * "
   ]
  },
  {
   "cell_type": "code",
   "execution_count": 2,
   "metadata": {},
   "outputs": [],
   "source": [
    "from fastai.callbacks.tracker import *"
   ]
  },
  {
   "cell_type": "code",
   "execution_count": 3,
   "metadata": {},
   "outputs": [],
   "source": [
    "import pickle\n",
    "with open('labels.pkl','rb') as f:\n",
    "    labels = pickle.load(f)"
   ]
  },
  {
   "cell_type": "code",
   "execution_count": 4,
   "metadata": {},
   "outputs": [],
   "source": [
    "path = Path('./')"
   ]
  },
  {
   "cell_type": "code",
   "execution_count": 5,
   "metadata": {},
   "outputs": [],
   "source": [
    "seed = 42\n",
    "src = (ImageList\n",
    "       .from_folder(path,include='cars_train',extensions='.jpg')\n",
    "       .split_by_rand_pct(0.15,seed=42)\n",
    "       .label_from_func(lambda x: labels[x.name])\n",
    "      )"
   ]
  },
  {
   "cell_type": "code",
   "execution_count": 6,
   "metadata": {},
   "outputs": [],
   "source": [
    "data = (src\n",
    "        .transform(get_transforms(),size=(299,299))\n",
    "        .databunch(bs=40)\n",
    "        .normalize(imagenet_stats)\n",
    "       )"
   ]
  },
  {
   "cell_type": "code",
   "execution_count": 7,
   "metadata": {},
   "outputs": [],
   "source": [
    "learn = cnn_learner(data, models.resnet50, metrics=accuracy)"
   ]
  },
  {
   "cell_type": "markdown",
   "metadata": {},
   "source": [
    "<strong>Carry on with the below cells to start training, skip to the next section if you just want to carry out inference on a test set. </strong>"
   ]
  },
  {
   "cell_type": "code",
   "execution_count": 9,
   "metadata": {},
   "outputs": [
    {
     "data": {
      "text/plain": [
       "FlattenedLoss of CrossEntropyLoss()"
      ]
     },
     "execution_count": 9,
     "metadata": {},
     "output_type": "execute_result"
    }
   ],
   "source": [
    "learn.loss_func"
   ]
  },
  {
   "cell_type": "code",
   "execution_count": 10,
   "metadata": {
    "scrolled": true
   },
   "outputs": [],
   "source": [
    "class PWCLoss():\n",
    "    def __init__(self,l=1):\n",
    "        self.l = l\n",
    "        self.train = True\n",
    "    def __call__(self,inp,targ,reduction=None):\n",
    "\n",
    "        loss = FlattenedLoss(CrossEntropyFlat)(inp,targ)\n",
    "        if self.train:\n",
    "            if(len(inp)%2!=0):\n",
    "                return loss\n",
    "            inp1, inp2 = inp.chunk(2,0)\n",
    "            targ1, targ2 = targ.chunk(2)\n",
    "            mask = (targ1 != targ2).float()\n",
    "            bs = len(inp1)\n",
    "            pwc = torch.zeros(bs).cuda()\n",
    "            for i in range(bs):\n",
    "                pwc[i] = torch.dist(inp1[i],inp2[i]).cuda()\n",
    "            pwc = self.l * pwc * mask / bs\n",
    "        #     import pdb; pdb.set_trace()\n",
    "            return loss + pwc.mean()\n",
    "        else:\n",
    "            return loss"
   ]
  },
  {
   "cell_type": "code",
   "execution_count": null,
   "metadata": {},
   "outputs": [],
   "source": [
    "learn.loss_func = PWCLoss()"
   ]
  },
  {
   "cell_type": "markdown",
   "metadata": {},
   "source": [
    "We load a model that we trained earlier."
   ]
  },
  {
   "cell_type": "code",
   "execution_count": 12,
   "metadata": {},
   "outputs": [],
   "source": [
    "# learn.load('20_epoch_resnet50_299_unfrozen_2');"
   ]
  },
  {
   "cell_type": "code",
   "execution_count": null,
   "metadata": {},
   "outputs": [],
   "source": [
    "learn.fit_one_cycle(15,slice(1e-5,5e-4))"
   ]
  },
  {
   "cell_type": "code",
   "execution_count": 16,
   "metadata": {},
   "outputs": [],
   "source": [
    "learn.save('1_resnet50_299_pwc') #0.8965"
   ]
  },
  {
   "cell_type": "code",
   "execution_count": 13,
   "metadata": {},
   "outputs": [],
   "source": [
    "learn.load('1_resnet50_299_pwc');"
   ]
  },
  {
   "cell_type": "code",
   "execution_count": 18,
   "metadata": {},
   "outputs": [
    {
     "data": {
      "text/html": [],
      "text/plain": [
       "<IPython.core.display.HTML object>"
      ]
     },
     "metadata": {},
     "output_type": "display_data"
    },
    {
     "name": "stdout",
     "output_type": "stream",
     "text": [
      "LR Finder is complete, type {learner_name}.recorder.plot() to see the graph.\n"
     ]
    }
   ],
   "source": [
    "learn.unfreeze();\n",
    "learn.lr_find()"
   ]
  },
  {
   "cell_type": "code",
   "execution_count": 19,
   "metadata": {},
   "outputs": [
    {
     "data": {
      "image/png": "[encoded data removed]",
      "text/plain": [
       "<Figure size 432x288 with 1 Axes>"
      ]
     },
     "metadata": {
      "needs_background": "light"
     },
     "output_type": "display_data"
    }
   ],
   "source": [
    "learn.recorder.plot() "
   ]
  },
  {
   "cell_type": "code",
   "execution_count": 14,
   "metadata": {},
   "outputs": [
    {
     "data": {
      "text/html": [
       "<table border=\"1\" class=\"dataframe\">\n",
       "  <thead>\n",
       "    <tr style=\"text-align: left;\">\n",
       "      <th>epoch</th>\n",
       "      <th>train_loss</th>\n",
       "      <th>valid_loss</th>\n",
       "      <th>accuracy</th>\n",
       "      <th>time</th>\n",
       "    </tr>\n",
       "  </thead>\n",
       "  <tbody>\n",
       "    <tr>\n",
       "      <td>0</td>\n",
       "      <td>0.448136</td>\n",
       "      <td>0.740648</td>\n",
       "      <td>0.901720</td>\n",
       "      <td>02:24</td>\n",
       "    </tr>\n",
       "    <tr>\n",
       "      <td>1</td>\n",
       "      <td>0.410216</td>\n",
       "      <td>0.698811</td>\n",
       "      <td>0.900901</td>\n",
       "      <td>02:15</td>\n",
       "    </tr>\n",
       "    <tr>\n",
       "      <td>2</td>\n",
       "      <td>0.349873</td>\n",
       "      <td>0.628840</td>\n",
       "      <td>0.902539</td>\n",
       "      <td>02:16</td>\n",
       "    </tr>\n",
       "    <tr>\n",
       "      <td>3</td>\n",
       "      <td>0.277905</td>\n",
       "      <td>0.555477</td>\n",
       "      <td>0.902539</td>\n",
       "      <td>02:16</td>\n",
       "    </tr>\n",
       "    <tr>\n",
       "      <td>4</td>\n",
       "      <td>0.227965</td>\n",
       "      <td>0.499696</td>\n",
       "      <td>0.903358</td>\n",
       "      <td>02:16</td>\n",
       "    </tr>\n",
       "    <tr>\n",
       "      <td>5</td>\n",
       "      <td>0.187007</td>\n",
       "      <td>0.457273</td>\n",
       "      <td>0.903358</td>\n",
       "      <td>02:14</td>\n",
       "    </tr>\n",
       "    <tr>\n",
       "      <td>6</td>\n",
       "      <td>0.151006</td>\n",
       "      <td>0.431260</td>\n",
       "      <td>0.903358</td>\n",
       "      <td>02:15</td>\n",
       "    </tr>\n",
       "    <tr>\n",
       "      <td>7</td>\n",
       "      <td>0.131999</td>\n",
       "      <td>0.414178</td>\n",
       "      <td>0.906634</td>\n",
       "      <td>02:15</td>\n",
       "    </tr>\n",
       "    <tr>\n",
       "      <td>8</td>\n",
       "      <td>0.124413</td>\n",
       "      <td>0.402015</td>\n",
       "      <td>0.904996</td>\n",
       "      <td>02:16</td>\n",
       "    </tr>\n",
       "    <tr>\n",
       "      <td>9</td>\n",
       "      <td>0.107301</td>\n",
       "      <td>0.395384</td>\n",
       "      <td>0.903358</td>\n",
       "      <td>02:18</td>\n",
       "    </tr>\n",
       "    <tr>\n",
       "      <td>10</td>\n",
       "      <td>0.102303</td>\n",
       "      <td>0.389630</td>\n",
       "      <td>0.905815</td>\n",
       "      <td>02:15</td>\n",
       "    </tr>\n",
       "    <tr>\n",
       "      <td>11</td>\n",
       "      <td>0.102716</td>\n",
       "      <td>0.386762</td>\n",
       "      <td>0.904996</td>\n",
       "      <td>02:15</td>\n",
       "    </tr>\n",
       "    <tr>\n",
       "      <td>12</td>\n",
       "      <td>0.097362</td>\n",
       "      <td>0.386533</td>\n",
       "      <td>0.906634</td>\n",
       "      <td>02:17</td>\n",
       "    </tr>\n",
       "    <tr>\n",
       "      <td>13</td>\n",
       "      <td>0.111174</td>\n",
       "      <td>0.386073</td>\n",
       "      <td>0.901720</td>\n",
       "      <td>02:15</td>\n",
       "    </tr>\n",
       "    <tr>\n",
       "      <td>14</td>\n",
       "      <td>0.102751</td>\n",
       "      <td>0.382267</td>\n",
       "      <td>0.905815</td>\n",
       "      <td>02:16</td>\n",
       "    </tr>\n",
       "  </tbody>\n",
       "</table>"
      ],
      "text/plain": [
       "<IPython.core.display.HTML object>"
      ]
     },
     "metadata": {},
     "output_type": "display_data"
    },
    {
     "name": "stdout",
     "output_type": "stream",
     "text": [
      "Better model found at epoch 0 with valid_loss value: 0.7406482100486755.\n",
      "Better model found at epoch 1 with valid_loss value: 0.6988109350204468.\n",
      "Better model found at epoch 2 with valid_loss value: 0.6288403868675232.\n",
      "Better model found at epoch 3 with valid_loss value: 0.5554767847061157.\n",
      "Better model found at epoch 4 with valid_loss value: 0.4996959865093231.\n",
      "Better model found at epoch 5 with valid_loss value: 0.45727330446243286.\n",
      "Better model found at epoch 6 with valid_loss value: 0.4312599301338196.\n",
      "Better model found at epoch 7 with valid_loss value: 0.4141782820224762.\n",
      "Better model found at epoch 8 with valid_loss value: 0.40201491117477417.\n",
      "Better model found at epoch 9 with valid_loss value: 0.3953840136528015.\n",
      "Better model found at epoch 10 with valid_loss value: 0.3896302580833435.\n",
      "Better model found at epoch 11 with valid_loss value: 0.38676178455352783.\n",
      "Better model found at epoch 12 with valid_loss value: 0.38653266429901123.\n",
      "Better model found at epoch 13 with valid_loss value: 0.38607263565063477.\n",
      "Better model found at epoch 14 with valid_loss value: 0.38226667046546936.\n"
     ]
    }
   ],
   "source": [
    "learn.fit_one_cycle(15,slice(1e-6,1e-4),callbacks=[SaveModelCallback(learn,every='improvement',name='2_resnet50_299_pwc')])"
   ]
  },
  {
   "cell_type": "code",
   "execution_count": 15,
   "metadata": {
    "scrolled": true
   },
   "outputs": [
    {
     "data": {
      "text/html": [
       "<table border=\"1\" class=\"dataframe\">\n",
       "  <thead>\n",
       "    <tr style=\"text-align: left;\">\n",
       "      <th>epoch</th>\n",
       "      <th>train_loss</th>\n",
       "      <th>valid_loss</th>\n",
       "      <th>accuracy</th>\n",
       "      <th>time</th>\n",
       "    </tr>\n",
       "  </thead>\n",
       "  <tbody>\n",
       "    <tr>\n",
       "      <td>0</td>\n",
       "      <td>0.098944</td>\n",
       "      <td>0.382720</td>\n",
       "      <td>0.904177</td>\n",
       "      <td>02:15</td>\n",
       "    </tr>\n",
       "    <tr>\n",
       "      <td>1</td>\n",
       "      <td>0.101947</td>\n",
       "      <td>0.382916</td>\n",
       "      <td>0.908272</td>\n",
       "      <td>02:16</td>\n",
       "    </tr>\n",
       "    <tr>\n",
       "      <td>2</td>\n",
       "      <td>0.095513</td>\n",
       "      <td>0.378390</td>\n",
       "      <td>0.906634</td>\n",
       "      <td>02:16</td>\n",
       "    </tr>\n",
       "    <tr>\n",
       "      <td>3</td>\n",
       "      <td>0.094250</td>\n",
       "      <td>0.375337</td>\n",
       "      <td>0.907453</td>\n",
       "      <td>02:16</td>\n",
       "    </tr>\n",
       "    <tr>\n",
       "      <td>4</td>\n",
       "      <td>0.087968</td>\n",
       "      <td>0.367991</td>\n",
       "      <td>0.905815</td>\n",
       "      <td>02:16</td>\n",
       "    </tr>\n",
       "    <tr>\n",
       "      <td>5</td>\n",
       "      <td>0.080498</td>\n",
       "      <td>0.363170</td>\n",
       "      <td>0.908272</td>\n",
       "      <td>02:15</td>\n",
       "    </tr>\n",
       "    <tr>\n",
       "      <td>6</td>\n",
       "      <td>0.077073</td>\n",
       "      <td>0.356954</td>\n",
       "      <td>0.904996</td>\n",
       "      <td>02:16</td>\n",
       "    </tr>\n",
       "    <tr>\n",
       "      <td>7</td>\n",
       "      <td>0.071062</td>\n",
       "      <td>0.356605</td>\n",
       "      <td>0.903358</td>\n",
       "      <td>02:15</td>\n",
       "    </tr>\n",
       "    <tr>\n",
       "      <td>8</td>\n",
       "      <td>0.069053</td>\n",
       "      <td>0.351846</td>\n",
       "      <td>0.907453</td>\n",
       "      <td>02:16</td>\n",
       "    </tr>\n",
       "    <tr>\n",
       "      <td>9</td>\n",
       "      <td>0.067435</td>\n",
       "      <td>0.351467</td>\n",
       "      <td>0.905815</td>\n",
       "      <td>02:15</td>\n",
       "    </tr>\n",
       "    <tr>\n",
       "      <td>10</td>\n",
       "      <td>0.068561</td>\n",
       "      <td>0.352755</td>\n",
       "      <td>0.907453</td>\n",
       "      <td>02:16</td>\n",
       "    </tr>\n",
       "    <tr>\n",
       "      <td>11</td>\n",
       "      <td>0.062161</td>\n",
       "      <td>0.349817</td>\n",
       "      <td>0.907453</td>\n",
       "      <td>02:16</td>\n",
       "    </tr>\n",
       "    <tr>\n",
       "      <td>12</td>\n",
       "      <td>0.065136</td>\n",
       "      <td>0.347627</td>\n",
       "      <td>0.907453</td>\n",
       "      <td>02:15</td>\n",
       "    </tr>\n",
       "    <tr>\n",
       "      <td>13</td>\n",
       "      <td>0.062010</td>\n",
       "      <td>0.350863</td>\n",
       "      <td>0.909091</td>\n",
       "      <td>02:16</td>\n",
       "    </tr>\n",
       "    <tr>\n",
       "      <td>14</td>\n",
       "      <td>0.061595</td>\n",
       "      <td>0.348661</td>\n",
       "      <td>0.909910</td>\n",
       "      <td>02:16</td>\n",
       "    </tr>\n",
       "    <tr>\n",
       "      <td>15</td>\n",
       "      <td>0.060319</td>\n",
       "      <td>0.348355</td>\n",
       "      <td>0.909091</td>\n",
       "      <td>02:16</td>\n",
       "    </tr>\n",
       "    <tr>\n",
       "      <td>16</td>\n",
       "      <td>0.057127</td>\n",
       "      <td>0.347961</td>\n",
       "      <td>0.909091</td>\n",
       "      <td>02:16</td>\n",
       "    </tr>\n",
       "    <tr>\n",
       "      <td>17</td>\n",
       "      <td>0.056788</td>\n",
       "      <td>0.347782</td>\n",
       "      <td>0.909091</td>\n",
       "      <td>02:16</td>\n",
       "    </tr>\n",
       "    <tr>\n",
       "      <td>18</td>\n",
       "      <td>0.063235</td>\n",
       "      <td>0.345681</td>\n",
       "      <td>0.909910</td>\n",
       "      <td>02:16</td>\n",
       "    </tr>\n",
       "    <tr>\n",
       "      <td>19</td>\n",
       "      <td>0.058750</td>\n",
       "      <td>0.348251</td>\n",
       "      <td>0.907453</td>\n",
       "      <td>02:14</td>\n",
       "    </tr>\n",
       "  </tbody>\n",
       "</table>"
      ],
      "text/plain": [
       "<IPython.core.display.HTML object>"
      ]
     },
     "metadata": {},
     "output_type": "display_data"
    },
    {
     "name": "stdout",
     "output_type": "stream",
     "text": [
      "Better model found at epoch 0 with valid_loss value: 0.3827202618122101.\n",
      "Better model found at epoch 2 with valid_loss value: 0.3783903121948242.\n",
      "Better model found at epoch 3 with valid_loss value: 0.375336617231369.\n",
      "Better model found at epoch 4 with valid_loss value: 0.3679911494255066.\n",
      "Better model found at epoch 5 with valid_loss value: 0.363170325756073.\n",
      "Better model found at epoch 6 with valid_loss value: 0.35695385932922363.\n",
      "Better model found at epoch 8 with valid_loss value: 0.3518455922603607.\n",
      "Better model found at epoch 9 with valid_loss value: 0.35146674513816833.\n",
      "Better model found at epoch 11 with valid_loss value: 0.3498173654079437.\n",
      "Better model found at epoch 12 with valid_loss value: 0.3476269543170929.\n",
      "Better model found at epoch 18 with valid_loss value: 0.3456805646419525.\n"
     ]
    }
   ],
   "source": [
    "learn.fit_one_cycle(20,slice(5e-6,1e-4),callbacks=[SaveModelCallback(learn,every='improvement',name='3_resnet50_299_pwc')])"
   ]
  },
  {
   "cell_type": "markdown",
   "metadata": {},
   "source": [
    "# Inference on Test Set"
   ]
  },
  {
   "cell_type": "markdown",
   "metadata": {},
   "source": [
    "First load a checkpoint."
   ]
  },
  {
   "cell_type": "code",
   "execution_count": null,
   "metadata": {},
   "outputs": [],
   "source": [
    "learn.load('3_resnet50_299_pwc');"
   ]
  },
  {
   "cell_type": "code",
   "execution_count": null,
   "metadata": {},
   "outputs": [],
   "source": [
    "#set the path of the folder containing test images\n",
    "path = Path('/test')\n",
    "test_imgs = path.ls()\n",
    "test_imgs.sort(key=lambda x: x.stem)"
   ]
  },
  {
   "cell_type": "code",
   "execution_count": null,
   "metadata": {},
   "outputs": [],
   "source": [
    "#Add test data to the databunch and assign it to the learner.\n",
    "data.add_test(test_imgs) \n",
    "learn.data = data"
   ]
  },
  {
   "cell_type": "code",
   "execution_count": null,
   "metadata": {},
   "outputs": [],
   "source": [
    "res = learn.TTA(ds_type=DatasetType.Test,with_loss=True)\n",
    "preds = res[0].argmax(-1)"
   ]
  },
  {
   "cell_type": "markdown",
   "metadata": {},
   "source": [
    "# END"
   ]
  }
 ],
 "metadata": {
  "kernelspec": {
   "display_name": "Python 3",
   "language": "python",
   "name": "python3"
  },
  "language_info": {
   "codemirror_mode": {
    "name": "ipython",
    "version": 3
   },
   "file_extension": ".py",
   "mimetype": "text/x-python",
   "name": "python",
   "nbconvert_exporter": "python",
   "pygments_lexer": "ipython3",
   "version": "3.7.3"
  }
 },
 "nbformat": 4,
 "nbformat_minor": 2
}
