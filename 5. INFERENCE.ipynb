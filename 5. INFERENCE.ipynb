{
 "cells": [
  {
   "cell_type": "markdown",
   "metadata": {},
   "source": [
    "# INFERENCE\n",
    "This notebook is meant for inference only!"
   ]
  },
  {
   "cell_type": "code",
   "execution_count": 1,
   "metadata": {},
   "outputs": [],
   "source": [
    "from fastai.vision import *\n",
    "import pickle"
   ]
  },
  {
   "cell_type": "code",
   "execution_count": 5,
   "metadata": {},
   "outputs": [
    {
     "name": "stdout",
     "output_type": "stream",
     "text": [
      "--2019-06-05 16:24:30--  https://www.dropbox.com/s/30194c5yqlfq9o2/export.pkl?dl=1\n",
      "Resolving www.dropbox.com (www.dropbox.com)... 162.125.8.1, 2620:100:601b:1::a27d:801\n",
      "Connecting to www.dropbox.com (www.dropbox.com)|162.125.8.1|:443... connected.\n",
      "HTTP request sent, awaiting response... 301 Moved Permanently\n",
      "Location: /s/dl/30194c5yqlfq9o2/export.pkl [following]\n",
      "--2019-06-05 16:24:30--  https://www.dropbox.com/s/dl/30194c5yqlfq9o2/export.pkl\n",
      "Reusing existing connection to www.dropbox.com:443.\n",
      "HTTP request sent, awaiting response... 302 Found\n",
      "Location: https://uc65bd6c7e56040a1af020b8c2b8.dl.dropboxusercontent.com/cd/0/get/AiQbquvFqSdIftEiRcc9DlO1KrDif8j9W4AKevpO084khIsr3ndvGTBjB0qWq0DYTgUSVjI4PgjFuLUnIaeoHNdeEsSRVIg19tIvPrBLKuWguA/file?dl=1# [following]\n",
      "--2019-06-05 16:24:30--  https://uc65bd6c7e56040a1af020b8c2b8.dl.dropboxusercontent.com/cd/0/get/AiQbquvFqSdIftEiRcc9DlO1KrDif8j9W4AKevpO084khIsr3ndvGTBjB0qWq0DYTgUSVjI4PgjFuLUnIaeoHNdeEsSRVIg19tIvPrBLKuWguA/file?dl=1\n",
      "Resolving uc65bd6c7e56040a1af020b8c2b8.dl.dropboxusercontent.com (uc65bd6c7e56040a1af020b8c2b8.dl.dropboxusercontent.com)... 162.125.8.6, 2620:100:601b:6::a27d:806\n",
      "Connecting to uc65bd6c7e56040a1af020b8c2b8.dl.dropboxusercontent.com (uc65bd6c7e56040a1af020b8c2b8.dl.dropboxusercontent.com)|162.125.8.6|:443... connected.\n",
      "HTTP request sent, awaiting response... 200 OK\n",
      "Length: 103266313 (98M) [application/binary]\n",
      "Saving to: ‘export.pkl’\n",
      "\n",
      "export.pkl          100%[===================>]  98.48M  46.3MB/s    in 2.1s    \n",
      "\n",
      "2019-06-05 16:24:33 (46.3 MB/s) - ‘export.pkl’ saved [103266313/103266313]\n",
      "\n"
     ]
    }
   ],
   "source": [
    "!wget https://www.dropbox.com/s/30194c5yqlfq9o2/export.pkl?dl=1 -O export.pkl"
   ]
  },
  {
   "cell_type": "code",
   "execution_count": 6,
   "metadata": {},
   "outputs": [],
   "source": [
    "learn = load_learner('.')"
   ]
  },
  {
   "cell_type": "markdown",
   "metadata": {},
   "source": [
    "## INPUT THE DIRECTORY A FOLDER CONTAINING IMAGES\n",
    "There must be no further subdirectories in this folder, this folder must contain all test images."
   ]
  },
  {
   "cell_type": "code",
   "execution_count": 7,
   "metadata": {},
   "outputs": [],
   "source": [
    "path = Path('cars_test/')"
   ]
  },
  {
   "cell_type": "code",
   "execution_count": 8,
   "metadata": {},
   "outputs": [],
   "source": [
    "items = path.ls()"
   ]
  },
  {
   "cell_type": "markdown",
   "metadata": {},
   "source": [
    "If you want to sort the items in some way, rearrange the elements in the `items` variable. Predictions will be made in the exact same order the items are arranged within that variable."
   ]
  },
  {
   "cell_type": "code",
   "execution_count": 9,
   "metadata": {},
   "outputs": [],
   "source": [
    "learn.data.add_test(path.ls())\n",
    "names = [i.name for i in learn.data.test_ds.items]"
   ]
  },
  {
   "cell_type": "markdown",
   "metadata": {},
   "source": [
    "#### Predict on test set."
   ]
  },
  {
   "cell_type": "code",
   "execution_count": 95,
   "metadata": {},
   "outputs": [],
   "source": [
    "#Test Time Augmentation gives better results, unless time is a real constraint this is better\n",
    "preds = learn.TTA(ds_type=DatasetType.Test,with_loss=False)"
   ]
  },
  {
   "cell_type": "code",
   "execution_count": null,
   "metadata": {},
   "outputs": [
    {
     "data": {
      "text/html": [
       "\n",
       "    <div>\n",
       "        <style>\n",
       "            /* Turns off some styling */\n",
       "            progress {\n",
       "                /* gets rid of default border in Firefox and Opera. */\n",
       "                border: none;\n",
       "                /* Needs to be in here for Safari polyfill so background images work as expected. */\n",
       "                background-size: auto;\n",
       "            }\n",
       "            .progress-bar-interrupted, .progress-bar-interrupted::-webkit-progress-bar {\n",
       "                background: #F44336;\n",
       "            }\n",
       "        </style>\n",
       "      <progress value='40' class='' max='126', style='width:300px; height:20px; vertical-align: middle;'></progress>\n",
       "      31.75% [40/126 00:22<00:47]\n",
       "    </div>\n",
       "    "
      ],
      "text/plain": [
       "<IPython.core.display.HTML object>"
      ]
     },
     "metadata": {},
     "output_type": "display_data"
    }
   ],
   "source": [
    "# IF TTA is taking too long, we can get preds this way too, but performance suffers marginally\n",
    "# preds = learn.get_preds(DatasetType.Test)\n",
    "predicted_idx  = preds[0].argmax(-1).numpy()"
   ]
  },
  {
   "cell_type": "code",
   "execution_count": null,
   "metadata": {},
   "outputs": [],
   "source": [
    "classes = pickle.load(open('classes.pkl','rb'))\n",
    "#the idx predicted from our model may not be the same as the mappings in the original dataset\n",
    "from scipy.io import loadmat\n",
    "cars = loadmat('devkit/cars_meta.mat')\n",
    "cars2idx = {c[0]: i+1 for i,c in enumerate(cars['class_names'][0])}"
   ]
  },
  {
   "cell_type": "code",
   "execution_count": null,
   "metadata": {},
   "outputs": [],
   "source": [
    "predicted_classes = [classes[idx] for idx in predicted_idx]\n",
    "\n",
    "#these idx will correspond to the idx given by stanford in their dataset\n",
    "real_idx = [cars2idx[c] for c in predicted_classes]"
   ]
  },
  {
   "cell_type": "code",
   "execution_count": null,
   "metadata": {},
   "outputs": [],
   "source": [
    "results = pd.DataFrame({'name':names,'pred':predicted_idx,'class':predicted_classes,'real_idx':real_idx})"
   ]
  },
  {
   "cell_type": "code",
   "execution_count": null,
   "metadata": {},
   "outputs": [],
   "source": [
    "results.head()"
   ]
  },
  {
   "cell_type": "code",
   "execution_count": null,
   "metadata": {},
   "outputs": [],
   "source": []
  }
 ],
 "metadata": {
  "kernelspec": {
   "display_name": "Python 3",
   "language": "python",
   "name": "python3"
  },
  "language_info": {
   "codemirror_mode": {
    "name": "ipython",
    "version": 3
   },
   "file_extension": ".py",
   "mimetype": "text/x-python",
   "name": "python",
   "nbconvert_exporter": "python",
   "pygments_lexer": "ipython3",
   "version": "3.7.1"
  }
 },
 "nbformat": 4,
 "nbformat_minor": 2
}
